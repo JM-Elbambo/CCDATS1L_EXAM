{
  "cells": [
    {
      "cell_type": "markdown",
      "metadata": {
        "id": "view-in-github",
        "colab_type": "text"
      },
      "source": [
        "<a href=\"https://colab.research.google.com/github/JM-Elbambo/CCDATS1L_EXAM/blob/main/machine_problem_1.ipynb\" target=\"_parent\"><img src=\"https://colab.research.google.com/assets/colab-badge.svg\" alt=\"Open In Colab\"/></a>"
      ]
    },
    {
      "cell_type": "markdown",
      "metadata": {
        "id": "_NJNtBBtF8xi"
      },
      "source": [
        "# Machine Problem 1"
      ]
    },
    {
      "cell_type": "markdown",
      "source": [
        "Instructions ❗️❗️\n",
        "\n",
        "❌ Do not remove or modify the notebook sections, subsections, exam questions or any text in this python notebook\n",
        "\n",
        "✔️ Put your answer in the designated cells below each question"
      ],
      "metadata": {
        "id": "8EceuOTIGcsH"
      }
    },
    {
      "cell_type": "code",
      "execution_count": 1,
      "metadata": {
        "id": "MqOQkbEFF8xr"
      },
      "outputs": [],
      "source": [
        "import pandas as pd\n",
        "from sklearn.preprocessing import MinMaxScaler\n",
        "import matplotlib.pyplot as plt\n",
        "import seaborn as sns"
      ]
    },
    {
      "cell_type": "markdown",
      "metadata": {
        "id": "oYLBYVQJF8xs"
      },
      "source": [
        "## Data Cleaning"
      ]
    },
    {
      "cell_type": "code",
      "execution_count": 7,
      "metadata": {
        "id": "0ElL8OL8F8xs"
      },
      "outputs": [],
      "source": [
        "df = pd.read_csv('food.csv')"
      ]
    },
    {
      "cell_type": "markdown",
      "metadata": {
        "id": "ix_kMM-XF8xs"
      },
      "source": [
        "1. Remove all duplicates in the dataset. `(6 points)`"
      ]
    },
    {
      "cell_type": "code",
      "execution_count": 8,
      "metadata": {
        "id": "mpzOx-X-F8xs"
      },
      "outputs": [],
      "source": [
        "# put your answer here\n",
        "df.drop_duplicates(inplace=True)"
      ]
    },
    {
      "cell_type": "markdown",
      "metadata": {
        "id": "Tb377rMBF8xs"
      },
      "source": [
        "2. Use the pandas `isnull()` and `any()` function to check for NaN values in each column. `(6 points)`"
      ]
    },
    {
      "cell_type": "code",
      "execution_count": 16,
      "metadata": {
        "id": "LQXVPklyF8xs",
        "outputId": "757210f8-caa5-4d36-87e9-8b08cedebd97",
        "colab": {
          "base_uri": "https://localhost:8080/"
        }
      },
      "outputs": [
        {
          "output_type": "execute_result",
          "data": {
            "text/plain": [
              "GPA                  True\n",
              "Gender              False\n",
              "breakfast           False\n",
              "calories_chicken    False\n",
              "calories_day         True\n",
              "                    ...  \n",
              "type_sports          True\n",
              "veggies_day         False\n",
              "vitamins            False\n",
              "waffle_calories     False\n",
              "weight               True\n",
              "Length: 61, dtype: bool"
            ]
          },
          "metadata": {},
          "execution_count": 16
        }
      ],
      "source": [
        "# put your answer here\n",
        "df.isnull().any()"
      ]
    },
    {
      "cell_type": "markdown",
      "metadata": {
        "id": "TyoG9phhF8xs"
      },
      "source": [
        "3. Retrieve all rows with NaN values in the dataset by using the pandas `isnull()` and `.any()` inside a dataframe. `(6 points)`"
      ]
    },
    {
      "cell_type": "code",
      "execution_count": 19,
      "metadata": {
        "id": "-G2tpTIQF8xt",
        "outputId": "5e2c9388-3596-4a01-f797-9d17eaa9ee70",
        "colab": {
          "base_uri": "https://localhost:8080/",
          "height": 721
        }
      },
      "outputs": [
        {
          "output_type": "execute_result",
          "data": {
            "text/plain": [
              "       GPA  Gender  breakfast  calories_chicken  calories_day  calories_scone  \\\n",
              "0      2.4       2          1               430           NaN           315.0   \n",
              "3      3.2       1          1               430           3.0           420.0   \n",
              "5     2.25       1          1               610           3.0           980.0   \n",
              "8      3.3       1          1               430           NaN           420.0   \n",
              "15     NaN       2          2               430           NaN           980.0   \n",
              "..     ...     ...        ...               ...           ...             ...   \n",
              "120    3.5       1          1               610           4.0           420.0   \n",
              "121      3       1          1               265           2.0           315.0   \n",
              "122  3.882       1          1               720           NaN           420.0   \n",
              "123      3       2          1               720           4.0           420.0   \n",
              "124    3.9       1          1               430           NaN           315.0   \n",
              "\n",
              "     coffee                             comfort_food  \\\n",
              "0         1                                     none   \n",
              "3         2         Pizza, Mac and cheese, ice cream   \n",
              "5         2                Candy, brownies and soda.   \n",
              "8         1                 Donuts, ice cream, chips   \n",
              "15        2              cookies, donuts, candy bars   \n",
              "..      ...                                      ...   \n",
              "120       2  wine. mac and cheese, pizza, ice cream    \n",
              "121       2               Pizza / Wings / Cheesecake   \n",
              "122       1               rice, potato, seaweed soup   \n",
              "123       1             Mac n Cheese, Lasagna, Pizza   \n",
              "124       2             Chocolates, pizza, and Ritz.   \n",
              "\n",
              "                                  comfort_food_reasons  \\\n",
              "0                                we dont have comfort    \n",
              "3                                              Boredom   \n",
              "5    None, i don't eat comfort food. I just eat whe...   \n",
              "8                                             Boredom    \n",
              "15                                             boredom   \n",
              "..                                                 ...   \n",
              "120                               boredom and sadness    \n",
              "121                    Loneliness / Homesick / Sadness   \n",
              "122                                            sadness   \n",
              "123      happiness, they are some of my favorite foods   \n",
              "124                   hormones, Premenstrual syndrome.   \n",
              "\n",
              "     comfort_food_reasons_coded  ...  soup  sports  thai_food  \\\n",
              "0                           9.0  ...   1.0     1.0          1   \n",
              "3                           2.0  ...   1.0     2.0          5   \n",
              "5                           4.0  ...   1.0     2.0          4   \n",
              "8                           2.0  ...   2.0     2.0          5   \n",
              "15                          2.0  ...   2.0     1.0          1   \n",
              "..                          ...  ...   ...     ...        ...   \n",
              "120                         NaN  ...   1.0     1.0          5   \n",
              "121                         NaN  ...   1.0     NaN          4   \n",
              "122                         NaN  ...   1.0     2.0          5   \n",
              "123                         NaN  ...   2.0     2.0          1   \n",
              "124                         NaN  ...   1.0     2.0          2   \n",
              "\n",
              "    tortilla_calories  turkey_calories  type_sports veggies_day  vitamins  \\\n",
              "0              1165.0              345   car racing           5         1   \n",
              "3               725.0              690          NaN           3         1   \n",
              "5               940.0              345        None.           1         2   \n",
              "8               725.0              345         none           3         2   \n",
              "15              940.0              345       Hockey           1         2   \n",
              "..                ...              ...          ...         ...       ...   \n",
              "120             940.0              500     Softball           5         1   \n",
              "121             940.0              500  basketball            5         2   \n",
              "122             580.0              690         none           4         2   \n",
              "123             940.0              500          NaN           3         1   \n",
              "124             725.0              345          NaN           4         2   \n",
              "\n",
              "     waffle_calories         weight  \n",
              "0               1315            187  \n",
              "3               1315  Not sure, 240  \n",
              "5               1315            190  \n",
              "8                760            180  \n",
              "15              1315            180  \n",
              "..               ...            ...  \n",
              "120             1315            156  \n",
              "121             1315            180  \n",
              "122             1315            120  \n",
              "123             1315            135  \n",
              "124              575            135  \n",
              "\n",
              "[73 rows x 61 columns]"
            ],
            "text/html": [
              "\n",
              "  <div id=\"df-cef8c888-d159-4c6b-8dd8-e703accb2943\" class=\"colab-df-container\">\n",
              "    <div>\n",
              "<style scoped>\n",
              "    .dataframe tbody tr th:only-of-type {\n",
              "        vertical-align: middle;\n",
              "    }\n",
              "\n",
              "    .dataframe tbody tr th {\n",
              "        vertical-align: top;\n",
              "    }\n",
              "\n",
              "    .dataframe thead th {\n",
              "        text-align: right;\n",
              "    }\n",
              "</style>\n",
              "<table border=\"1\" class=\"dataframe\">\n",
              "  <thead>\n",
              "    <tr style=\"text-align: right;\">\n",
              "      <th></th>\n",
              "      <th>GPA</th>\n",
              "      <th>Gender</th>\n",
              "      <th>breakfast</th>\n",
              "      <th>calories_chicken</th>\n",
              "      <th>calories_day</th>\n",
              "      <th>calories_scone</th>\n",
              "      <th>coffee</th>\n",
              "      <th>comfort_food</th>\n",
              "      <th>comfort_food_reasons</th>\n",
              "      <th>comfort_food_reasons_coded</th>\n",
              "      <th>...</th>\n",
              "      <th>soup</th>\n",
              "      <th>sports</th>\n",
              "      <th>thai_food</th>\n",
              "      <th>tortilla_calories</th>\n",
              "      <th>turkey_calories</th>\n",
              "      <th>type_sports</th>\n",
              "      <th>veggies_day</th>\n",
              "      <th>vitamins</th>\n",
              "      <th>waffle_calories</th>\n",
              "      <th>weight</th>\n",
              "    </tr>\n",
              "  </thead>\n",
              "  <tbody>\n",
              "    <tr>\n",
              "      <th>0</th>\n",
              "      <td>2.4</td>\n",
              "      <td>2</td>\n",
              "      <td>1</td>\n",
              "      <td>430</td>\n",
              "      <td>NaN</td>\n",
              "      <td>315.0</td>\n",
              "      <td>1</td>\n",
              "      <td>none</td>\n",
              "      <td>we dont have comfort</td>\n",
              "      <td>9.0</td>\n",
              "      <td>...</td>\n",
              "      <td>1.0</td>\n",
              "      <td>1.0</td>\n",
              "      <td>1</td>\n",
              "      <td>1165.0</td>\n",
              "      <td>345</td>\n",
              "      <td>car racing</td>\n",
              "      <td>5</td>\n",
              "      <td>1</td>\n",
              "      <td>1315</td>\n",
              "      <td>187</td>\n",
              "    </tr>\n",
              "    <tr>\n",
              "      <th>3</th>\n",
              "      <td>3.2</td>\n",
              "      <td>1</td>\n",
              "      <td>1</td>\n",
              "      <td>430</td>\n",
              "      <td>3.0</td>\n",
              "      <td>420.0</td>\n",
              "      <td>2</td>\n",
              "      <td>Pizza, Mac and cheese, ice cream</td>\n",
              "      <td>Boredom</td>\n",
              "      <td>2.0</td>\n",
              "      <td>...</td>\n",
              "      <td>1.0</td>\n",
              "      <td>2.0</td>\n",
              "      <td>5</td>\n",
              "      <td>725.0</td>\n",
              "      <td>690</td>\n",
              "      <td>NaN</td>\n",
              "      <td>3</td>\n",
              "      <td>1</td>\n",
              "      <td>1315</td>\n",
              "      <td>Not sure, 240</td>\n",
              "    </tr>\n",
              "    <tr>\n",
              "      <th>5</th>\n",
              "      <td>2.25</td>\n",
              "      <td>1</td>\n",
              "      <td>1</td>\n",
              "      <td>610</td>\n",
              "      <td>3.0</td>\n",
              "      <td>980.0</td>\n",
              "      <td>2</td>\n",
              "      <td>Candy, brownies and soda.</td>\n",
              "      <td>None, i don't eat comfort food. I just eat whe...</td>\n",
              "      <td>4.0</td>\n",
              "      <td>...</td>\n",
              "      <td>1.0</td>\n",
              "      <td>2.0</td>\n",
              "      <td>4</td>\n",
              "      <td>940.0</td>\n",
              "      <td>345</td>\n",
              "      <td>None.</td>\n",
              "      <td>1</td>\n",
              "      <td>2</td>\n",
              "      <td>1315</td>\n",
              "      <td>190</td>\n",
              "    </tr>\n",
              "    <tr>\n",
              "      <th>8</th>\n",
              "      <td>3.3</td>\n",
              "      <td>1</td>\n",
              "      <td>1</td>\n",
              "      <td>430</td>\n",
              "      <td>NaN</td>\n",
              "      <td>420.0</td>\n",
              "      <td>1</td>\n",
              "      <td>Donuts, ice cream, chips</td>\n",
              "      <td>Boredom</td>\n",
              "      <td>2.0</td>\n",
              "      <td>...</td>\n",
              "      <td>2.0</td>\n",
              "      <td>2.0</td>\n",
              "      <td>5</td>\n",
              "      <td>725.0</td>\n",
              "      <td>345</td>\n",
              "      <td>none</td>\n",
              "      <td>3</td>\n",
              "      <td>2</td>\n",
              "      <td>760</td>\n",
              "      <td>180</td>\n",
              "    </tr>\n",
              "    <tr>\n",
              "      <th>15</th>\n",
              "      <td>NaN</td>\n",
              "      <td>2</td>\n",
              "      <td>2</td>\n",
              "      <td>430</td>\n",
              "      <td>NaN</td>\n",
              "      <td>980.0</td>\n",
              "      <td>2</td>\n",
              "      <td>cookies, donuts, candy bars</td>\n",
              "      <td>boredom</td>\n",
              "      <td>2.0</td>\n",
              "      <td>...</td>\n",
              "      <td>2.0</td>\n",
              "      <td>1.0</td>\n",
              "      <td>1</td>\n",
              "      <td>940.0</td>\n",
              "      <td>345</td>\n",
              "      <td>Hockey</td>\n",
              "      <td>1</td>\n",
              "      <td>2</td>\n",
              "      <td>1315</td>\n",
              "      <td>180</td>\n",
              "    </tr>\n",
              "    <tr>\n",
              "      <th>...</th>\n",
              "      <td>...</td>\n",
              "      <td>...</td>\n",
              "      <td>...</td>\n",
              "      <td>...</td>\n",
              "      <td>...</td>\n",
              "      <td>...</td>\n",
              "      <td>...</td>\n",
              "      <td>...</td>\n",
              "      <td>...</td>\n",
              "      <td>...</td>\n",
              "      <td>...</td>\n",
              "      <td>...</td>\n",
              "      <td>...</td>\n",
              "      <td>...</td>\n",
              "      <td>...</td>\n",
              "      <td>...</td>\n",
              "      <td>...</td>\n",
              "      <td>...</td>\n",
              "      <td>...</td>\n",
              "      <td>...</td>\n",
              "      <td>...</td>\n",
              "    </tr>\n",
              "    <tr>\n",
              "      <th>120</th>\n",
              "      <td>3.5</td>\n",
              "      <td>1</td>\n",
              "      <td>1</td>\n",
              "      <td>610</td>\n",
              "      <td>4.0</td>\n",
              "      <td>420.0</td>\n",
              "      <td>2</td>\n",
              "      <td>wine. mac and cheese, pizza, ice cream</td>\n",
              "      <td>boredom and sadness</td>\n",
              "      <td>NaN</td>\n",
              "      <td>...</td>\n",
              "      <td>1.0</td>\n",
              "      <td>1.0</td>\n",
              "      <td>5</td>\n",
              "      <td>940.0</td>\n",
              "      <td>500</td>\n",
              "      <td>Softball</td>\n",
              "      <td>5</td>\n",
              "      <td>1</td>\n",
              "      <td>1315</td>\n",
              "      <td>156</td>\n",
              "    </tr>\n",
              "    <tr>\n",
              "      <th>121</th>\n",
              "      <td>3</td>\n",
              "      <td>1</td>\n",
              "      <td>1</td>\n",
              "      <td>265</td>\n",
              "      <td>2.0</td>\n",
              "      <td>315.0</td>\n",
              "      <td>2</td>\n",
              "      <td>Pizza / Wings / Cheesecake</td>\n",
              "      <td>Loneliness / Homesick / Sadness</td>\n",
              "      <td>NaN</td>\n",
              "      <td>...</td>\n",
              "      <td>1.0</td>\n",
              "      <td>NaN</td>\n",
              "      <td>4</td>\n",
              "      <td>940.0</td>\n",
              "      <td>500</td>\n",
              "      <td>basketball</td>\n",
              "      <td>5</td>\n",
              "      <td>2</td>\n",
              "      <td>1315</td>\n",
              "      <td>180</td>\n",
              "    </tr>\n",
              "    <tr>\n",
              "      <th>122</th>\n",
              "      <td>3.882</td>\n",
              "      <td>1</td>\n",
              "      <td>1</td>\n",
              "      <td>720</td>\n",
              "      <td>NaN</td>\n",
              "      <td>420.0</td>\n",
              "      <td>1</td>\n",
              "      <td>rice, potato, seaweed soup</td>\n",
              "      <td>sadness</td>\n",
              "      <td>NaN</td>\n",
              "      <td>...</td>\n",
              "      <td>1.0</td>\n",
              "      <td>2.0</td>\n",
              "      <td>5</td>\n",
              "      <td>580.0</td>\n",
              "      <td>690</td>\n",
              "      <td>none</td>\n",
              "      <td>4</td>\n",
              "      <td>2</td>\n",
              "      <td>1315</td>\n",
              "      <td>120</td>\n",
              "    </tr>\n",
              "    <tr>\n",
              "      <th>123</th>\n",
              "      <td>3</td>\n",
              "      <td>2</td>\n",
              "      <td>1</td>\n",
              "      <td>720</td>\n",
              "      <td>4.0</td>\n",
              "      <td>420.0</td>\n",
              "      <td>1</td>\n",
              "      <td>Mac n Cheese, Lasagna, Pizza</td>\n",
              "      <td>happiness, they are some of my favorite foods</td>\n",
              "      <td>NaN</td>\n",
              "      <td>...</td>\n",
              "      <td>2.0</td>\n",
              "      <td>2.0</td>\n",
              "      <td>1</td>\n",
              "      <td>940.0</td>\n",
              "      <td>500</td>\n",
              "      <td>NaN</td>\n",
              "      <td>3</td>\n",
              "      <td>1</td>\n",
              "      <td>1315</td>\n",
              "      <td>135</td>\n",
              "    </tr>\n",
              "    <tr>\n",
              "      <th>124</th>\n",
              "      <td>3.9</td>\n",
              "      <td>1</td>\n",
              "      <td>1</td>\n",
              "      <td>430</td>\n",
              "      <td>NaN</td>\n",
              "      <td>315.0</td>\n",
              "      <td>2</td>\n",
              "      <td>Chocolates, pizza, and Ritz.</td>\n",
              "      <td>hormones, Premenstrual syndrome.</td>\n",
              "      <td>NaN</td>\n",
              "      <td>...</td>\n",
              "      <td>1.0</td>\n",
              "      <td>2.0</td>\n",
              "      <td>2</td>\n",
              "      <td>725.0</td>\n",
              "      <td>345</td>\n",
              "      <td>NaN</td>\n",
              "      <td>4</td>\n",
              "      <td>2</td>\n",
              "      <td>575</td>\n",
              "      <td>135</td>\n",
              "    </tr>\n",
              "  </tbody>\n",
              "</table>\n",
              "<p>73 rows × 61 columns</p>\n",
              "</div>\n",
              "    <div class=\"colab-df-buttons\">\n",
              "\n",
              "  <div class=\"colab-df-container\">\n",
              "    <button class=\"colab-df-convert\" onclick=\"convertToInteractive('df-cef8c888-d159-4c6b-8dd8-e703accb2943')\"\n",
              "            title=\"Convert this dataframe to an interactive table.\"\n",
              "            style=\"display:none;\">\n",
              "\n",
              "  <svg xmlns=\"http://www.w3.org/2000/svg\" height=\"24px\" viewBox=\"0 -960 960 960\">\n",
              "    <path d=\"M120-120v-720h720v720H120Zm60-500h600v-160H180v160Zm220 220h160v-160H400v160Zm0 220h160v-160H400v160ZM180-400h160v-160H180v160Zm440 0h160v-160H620v160ZM180-180h160v-160H180v160Zm440 0h160v-160H620v160Z\"/>\n",
              "  </svg>\n",
              "    </button>\n",
              "\n",
              "  <style>\n",
              "    .colab-df-container {\n",
              "      display:flex;\n",
              "      gap: 12px;\n",
              "    }\n",
              "\n",
              "    .colab-df-convert {\n",
              "      background-color: #E8F0FE;\n",
              "      border: none;\n",
              "      border-radius: 50%;\n",
              "      cursor: pointer;\n",
              "      display: none;\n",
              "      fill: #1967D2;\n",
              "      height: 32px;\n",
              "      padding: 0 0 0 0;\n",
              "      width: 32px;\n",
              "    }\n",
              "\n",
              "    .colab-df-convert:hover {\n",
              "      background-color: #E2EBFA;\n",
              "      box-shadow: 0px 1px 2px rgba(60, 64, 67, 0.3), 0px 1px 3px 1px rgba(60, 64, 67, 0.15);\n",
              "      fill: #174EA6;\n",
              "    }\n",
              "\n",
              "    .colab-df-buttons div {\n",
              "      margin-bottom: 4px;\n",
              "    }\n",
              "\n",
              "    [theme=dark] .colab-df-convert {\n",
              "      background-color: #3B4455;\n",
              "      fill: #D2E3FC;\n",
              "    }\n",
              "\n",
              "    [theme=dark] .colab-df-convert:hover {\n",
              "      background-color: #434B5C;\n",
              "      box-shadow: 0px 1px 3px 1px rgba(0, 0, 0, 0.15);\n",
              "      filter: drop-shadow(0px 1px 2px rgba(0, 0, 0, 0.3));\n",
              "      fill: #FFFFFF;\n",
              "    }\n",
              "  </style>\n",
              "\n",
              "    <script>\n",
              "      const buttonEl =\n",
              "        document.querySelector('#df-cef8c888-d159-4c6b-8dd8-e703accb2943 button.colab-df-convert');\n",
              "      buttonEl.style.display =\n",
              "        google.colab.kernel.accessAllowed ? 'block' : 'none';\n",
              "\n",
              "      async function convertToInteractive(key) {\n",
              "        const element = document.querySelector('#df-cef8c888-d159-4c6b-8dd8-e703accb2943');\n",
              "        const dataTable =\n",
              "          await google.colab.kernel.invokeFunction('convertToInteractive',\n",
              "                                                    [key], {});\n",
              "        if (!dataTable) return;\n",
              "\n",
              "        const docLinkHtml = 'Like what you see? Visit the ' +\n",
              "          '<a target=\"_blank\" href=https://colab.research.google.com/notebooks/data_table.ipynb>data table notebook</a>'\n",
              "          + ' to learn more about interactive tables.';\n",
              "        element.innerHTML = '';\n",
              "        dataTable['output_type'] = 'display_data';\n",
              "        await google.colab.output.renderOutput(dataTable, element);\n",
              "        const docLink = document.createElement('div');\n",
              "        docLink.innerHTML = docLinkHtml;\n",
              "        element.appendChild(docLink);\n",
              "      }\n",
              "    </script>\n",
              "  </div>\n",
              "\n",
              "\n",
              "<div id=\"df-e45dae0a-2c21-4717-962f-1eb150c978db\">\n",
              "  <button class=\"colab-df-quickchart\" onclick=\"quickchart('df-e45dae0a-2c21-4717-962f-1eb150c978db')\"\n",
              "            title=\"Suggest charts.\"\n",
              "            style=\"display:none;\">\n",
              "\n",
              "<svg xmlns=\"http://www.w3.org/2000/svg\" height=\"24px\"viewBox=\"0 0 24 24\"\n",
              "     width=\"24px\">\n",
              "    <g>\n",
              "        <path d=\"M19 3H5c-1.1 0-2 .9-2 2v14c0 1.1.9 2 2 2h14c1.1 0 2-.9 2-2V5c0-1.1-.9-2-2-2zM9 17H7v-7h2v7zm4 0h-2V7h2v10zm4 0h-2v-4h2v4z\"/>\n",
              "    </g>\n",
              "</svg>\n",
              "  </button>\n",
              "\n",
              "<style>\n",
              "  .colab-df-quickchart {\n",
              "      --bg-color: #E8F0FE;\n",
              "      --fill-color: #1967D2;\n",
              "      --hover-bg-color: #E2EBFA;\n",
              "      --hover-fill-color: #174EA6;\n",
              "      --disabled-fill-color: #AAA;\n",
              "      --disabled-bg-color: #DDD;\n",
              "  }\n",
              "\n",
              "  [theme=dark] .colab-df-quickchart {\n",
              "      --bg-color: #3B4455;\n",
              "      --fill-color: #D2E3FC;\n",
              "      --hover-bg-color: #434B5C;\n",
              "      --hover-fill-color: #FFFFFF;\n",
              "      --disabled-bg-color: #3B4455;\n",
              "      --disabled-fill-color: #666;\n",
              "  }\n",
              "\n",
              "  .colab-df-quickchart {\n",
              "    background-color: var(--bg-color);\n",
              "    border: none;\n",
              "    border-radius: 50%;\n",
              "    cursor: pointer;\n",
              "    display: none;\n",
              "    fill: var(--fill-color);\n",
              "    height: 32px;\n",
              "    padding: 0;\n",
              "    width: 32px;\n",
              "  }\n",
              "\n",
              "  .colab-df-quickchart:hover {\n",
              "    background-color: var(--hover-bg-color);\n",
              "    box-shadow: 0 1px 2px rgba(60, 64, 67, 0.3), 0 1px 3px 1px rgba(60, 64, 67, 0.15);\n",
              "    fill: var(--button-hover-fill-color);\n",
              "  }\n",
              "\n",
              "  .colab-df-quickchart-complete:disabled,\n",
              "  .colab-df-quickchart-complete:disabled:hover {\n",
              "    background-color: var(--disabled-bg-color);\n",
              "    fill: var(--disabled-fill-color);\n",
              "    box-shadow: none;\n",
              "  }\n",
              "\n",
              "  .colab-df-spinner {\n",
              "    border: 2px solid var(--fill-color);\n",
              "    border-color: transparent;\n",
              "    border-bottom-color: var(--fill-color);\n",
              "    animation:\n",
              "      spin 1s steps(1) infinite;\n",
              "  }\n",
              "\n",
              "  @keyframes spin {\n",
              "    0% {\n",
              "      border-color: transparent;\n",
              "      border-bottom-color: var(--fill-color);\n",
              "      border-left-color: var(--fill-color);\n",
              "    }\n",
              "    20% {\n",
              "      border-color: transparent;\n",
              "      border-left-color: var(--fill-color);\n",
              "      border-top-color: var(--fill-color);\n",
              "    }\n",
              "    30% {\n",
              "      border-color: transparent;\n",
              "      border-left-color: var(--fill-color);\n",
              "      border-top-color: var(--fill-color);\n",
              "      border-right-color: var(--fill-color);\n",
              "    }\n",
              "    40% {\n",
              "      border-color: transparent;\n",
              "      border-right-color: var(--fill-color);\n",
              "      border-top-color: var(--fill-color);\n",
              "    }\n",
              "    60% {\n",
              "      border-color: transparent;\n",
              "      border-right-color: var(--fill-color);\n",
              "    }\n",
              "    80% {\n",
              "      border-color: transparent;\n",
              "      border-right-color: var(--fill-color);\n",
              "      border-bottom-color: var(--fill-color);\n",
              "    }\n",
              "    90% {\n",
              "      border-color: transparent;\n",
              "      border-bottom-color: var(--fill-color);\n",
              "    }\n",
              "  }\n",
              "</style>\n",
              "\n",
              "  <script>\n",
              "    async function quickchart(key) {\n",
              "      const quickchartButtonEl =\n",
              "        document.querySelector('#' + key + ' button');\n",
              "      quickchartButtonEl.disabled = true;  // To prevent multiple clicks.\n",
              "      quickchartButtonEl.classList.add('colab-df-spinner');\n",
              "      try {\n",
              "        const charts = await google.colab.kernel.invokeFunction(\n",
              "            'suggestCharts', [key], {});\n",
              "      } catch (error) {\n",
              "        console.error('Error during call to suggestCharts:', error);\n",
              "      }\n",
              "      quickchartButtonEl.classList.remove('colab-df-spinner');\n",
              "      quickchartButtonEl.classList.add('colab-df-quickchart-complete');\n",
              "    }\n",
              "    (() => {\n",
              "      let quickchartButtonEl =\n",
              "        document.querySelector('#df-e45dae0a-2c21-4717-962f-1eb150c978db button');\n",
              "      quickchartButtonEl.style.display =\n",
              "        google.colab.kernel.accessAllowed ? 'block' : 'none';\n",
              "    })();\n",
              "  </script>\n",
              "</div>\n",
              "    </div>\n",
              "  </div>\n"
            ]
          },
          "metadata": {},
          "execution_count": 19
        }
      ],
      "source": [
        "# put your answer here\n",
        "df[df.isnull().any(axis=1)]"
      ]
    },
    {
      "cell_type": "markdown",
      "metadata": {
        "id": "Q_P9uwRLF8xt"
      },
      "source": [
        "4. Put all of the columns with NaN values in a list. Print the contents of the list. `(6 points)`"
      ]
    },
    {
      "cell_type": "code",
      "execution_count": 27,
      "metadata": {
        "id": "vDzavt2kF8xt",
        "outputId": "32f19813-99d3-431d-cd65-d7d3728ee6dc",
        "colab": {
          "base_uri": "https://localhost:8080/"
        }
      },
      "outputs": [
        {
          "output_type": "execute_result",
          "data": {
            "text/plain": [
              "['GPA',\n",
              " 'calories_day',\n",
              " 'calories_scone',\n",
              " 'comfort_food',\n",
              " 'comfort_food_reasons',\n",
              " 'comfort_food_reasons_coded',\n",
              " 'cook',\n",
              " 'cuisine',\n",
              " 'diet_current',\n",
              " 'drink',\n",
              " 'eating_changes',\n",
              " 'employment',\n",
              " 'exercise',\n",
              " 'father_education',\n",
              " 'father_profession',\n",
              " 'fav_cuisine',\n",
              " 'fav_food',\n",
              " 'food_childhood',\n",
              " 'healthy_meal',\n",
              " 'ideal_diet',\n",
              " 'income',\n",
              " 'life_rewarding',\n",
              " 'marital_status',\n",
              " 'meals_dinner_friend',\n",
              " 'mother_education',\n",
              " 'mother_profession',\n",
              " 'on_off_campus',\n",
              " 'persian_food',\n",
              " 'self_perception_weight',\n",
              " 'soup',\n",
              " 'sports',\n",
              " 'tortilla_calories',\n",
              " 'type_sports',\n",
              " 'weight']"
            ]
          },
          "metadata": {},
          "execution_count": 27
        }
      ],
      "source": [
        "# put your answer here\n",
        "columns_with_nan = list(df.columns[df.isnull().any()])\n",
        "columns_with_nan"
      ]
    },
    {
      "cell_type": "markdown",
      "metadata": {
        "id": "sNL93oDzF8xt"
      },
      "source": [
        "5. Loop through the list that contains columns with NaN values and use the `fillna()` function to replace NaN values with empty an string. `(6 points)`"
      ]
    },
    {
      "cell_type": "code",
      "execution_count": 30,
      "metadata": {
        "id": "zjCZGnytF8xt"
      },
      "outputs": [],
      "source": [
        "# put your answer here\n",
        "for column in columns_with_nan:\n",
        "  df[column] = df[column].fillna(\"\")"
      ]
    },
    {
      "cell_type": "markdown",
      "metadata": {
        "id": "S6DEXjj1F8xt"
      },
      "source": [
        "6. In th **GPA** column, replace non-numeric values with zeroes. `(6 points)`"
      ]
    },
    {
      "cell_type": "code",
      "execution_count": 56,
      "metadata": {
        "id": "xcyNAdGOF8xt"
      },
      "outputs": [],
      "source": [
        "# put your answer here\n",
        "import numpy as np\n",
        "df[\"GPA\"] = pd.to_numeric(df[\"GPA\"], errors='coerce')\n",
        "df[\"GPA\"].fillna(0, inplace=True)"
      ]
    },
    {
      "cell_type": "markdown",
      "metadata": {
        "id": "c4zWA3DCF8xt"
      },
      "source": [
        "7. In the **comfort_food** column, replace empty values with \"none\". `(6 points)`"
      ]
    },
    {
      "cell_type": "code",
      "execution_count": 63,
      "metadata": {
        "id": "A6FFrmVxF8xu"
      },
      "outputs": [],
      "source": [
        "# put your answer here\n",
        "df[\"comfort_food\"].replace(\"\", \"none\", inplace=True)"
      ]
    },
    {
      "cell_type": "markdown",
      "metadata": {
        "id": "PfE-HDRkF8xu"
      },
      "source": [
        "8. In the **weight** column, replace non-numeric values with \"\". `(6 points)`"
      ]
    },
    {
      "cell_type": "code",
      "execution_count": 73,
      "metadata": {
        "id": "v0g7yb4YF8xu"
      },
      "outputs": [],
      "source": [
        "# put your answer here\n",
        "df[\"weight\"] = pd.to_numeric(df[\"weight\"], errors='coerce')\n",
        "df[\"weight\"].fillna(\"\", inplace=True)"
      ]
    },
    {
      "cell_type": "markdown",
      "metadata": {
        "id": "PCwSu3QZF8xu"
      },
      "source": [
        "## Feature Scaling"
      ]
    },
    {
      "cell_type": "markdown",
      "metadata": {
        "id": "SUGE273SF8xu"
      },
      "source": [
        "9. Create a new dataframe which contains the following columns: `(6 points)`\n",
        "- calories_chicken\n",
        "- calories_scone\n",
        "- tortilla_calories\n",
        "- turkey_calories\n",
        "- waffle_calories"
      ]
    },
    {
      "cell_type": "code",
      "execution_count": 77,
      "metadata": {
        "id": "8flM0N6gF8xu"
      },
      "outputs": [],
      "source": [
        "# put your answer here\n",
        "new_df = pd.DataFrame(columns = [\n",
        "    \"calories_chicken\",\n",
        "    \"calories_scone\",\n",
        "    \"tortilla_calories\",\n",
        "    \"turkey_calories\",\n",
        "    \"waffle_calories\"\n",
        "    ])"
      ]
    },
    {
      "cell_type": "markdown",
      "metadata": {
        "id": "5jAfCHIXF8xu"
      },
      "source": [
        "10. Replace the empty values un calorie column with zeroes using the `replace()` function. `(6 points)`"
      ]
    },
    {
      "cell_type": "code",
      "execution_count": 78,
      "metadata": {
        "id": "IG-AUZyHF8xu",
        "outputId": "b7b0ffa9-03c9-4d0e-837f-30de0e295834",
        "colab": {
          "base_uri": "https://localhost:8080/",
          "height": 512
        }
      },
      "outputs": [
        {
          "output_type": "error",
          "ename": "KeyError",
          "evalue": "ignored",
          "traceback": [
            "\u001b[0;31m---------------------------------------------------------------------------\u001b[0m",
            "\u001b[0;31mKeyError\u001b[0m                                  Traceback (most recent call last)",
            "\u001b[0;32m/usr/local/lib/python3.10/dist-packages/pandas/core/indexes/base.py\u001b[0m in \u001b[0;36mget_loc\u001b[0;34m(self, key, method, tolerance)\u001b[0m\n\u001b[1;32m   3801\u001b[0m             \u001b[0;32mtry\u001b[0m\u001b[0;34m:\u001b[0m\u001b[0;34m\u001b[0m\u001b[0;34m\u001b[0m\u001b[0m\n\u001b[0;32m-> 3802\u001b[0;31m                 \u001b[0;32mreturn\u001b[0m \u001b[0mself\u001b[0m\u001b[0;34m.\u001b[0m\u001b[0m_engine\u001b[0m\u001b[0;34m.\u001b[0m\u001b[0mget_loc\u001b[0m\u001b[0;34m(\u001b[0m\u001b[0mcasted_key\u001b[0m\u001b[0;34m)\u001b[0m\u001b[0;34m\u001b[0m\u001b[0;34m\u001b[0m\u001b[0m\n\u001b[0m\u001b[1;32m   3803\u001b[0m             \u001b[0;32mexcept\u001b[0m \u001b[0mKeyError\u001b[0m \u001b[0;32mas\u001b[0m \u001b[0merr\u001b[0m\u001b[0;34m:\u001b[0m\u001b[0;34m\u001b[0m\u001b[0;34m\u001b[0m\u001b[0m\n",
            "\u001b[0;32m/usr/local/lib/python3.10/dist-packages/pandas/_libs/index.pyx\u001b[0m in \u001b[0;36mpandas._libs.index.IndexEngine.get_loc\u001b[0;34m()\u001b[0m\n",
            "\u001b[0;32m/usr/local/lib/python3.10/dist-packages/pandas/_libs/index.pyx\u001b[0m in \u001b[0;36mpandas._libs.index.IndexEngine.get_loc\u001b[0;34m()\u001b[0m\n",
            "\u001b[0;32mpandas/_libs/hashtable_class_helper.pxi\u001b[0m in \u001b[0;36mpandas._libs.hashtable.PyObjectHashTable.get_item\u001b[0;34m()\u001b[0m\n",
            "\u001b[0;32mpandas/_libs/hashtable_class_helper.pxi\u001b[0m in \u001b[0;36mpandas._libs.hashtable.PyObjectHashTable.get_item\u001b[0;34m()\u001b[0m\n",
            "\u001b[0;31mKeyError\u001b[0m: 'calorie'",
            "\nThe above exception was the direct cause of the following exception:\n",
            "\u001b[0;31mKeyError\u001b[0m                                  Traceback (most recent call last)",
            "\u001b[0;32m<ipython-input-78-f36ddb0f69e0>\u001b[0m in \u001b[0;36m<cell line: 2>\u001b[0;34m()\u001b[0m\n\u001b[1;32m      1\u001b[0m \u001b[0;31m# put your answer here\u001b[0m\u001b[0;34m\u001b[0m\u001b[0;34m\u001b[0m\u001b[0m\n\u001b[0;32m----> 2\u001b[0;31m \u001b[0mdf\u001b[0m\u001b[0;34m[\u001b[0m\u001b[0;34m\"calorie\"\u001b[0m\u001b[0;34m]\u001b[0m\u001b[0;34m\u001b[0m\u001b[0;34m\u001b[0m\u001b[0m\n\u001b[0m",
            "\u001b[0;32m/usr/local/lib/python3.10/dist-packages/pandas/core/frame.py\u001b[0m in \u001b[0;36m__getitem__\u001b[0;34m(self, key)\u001b[0m\n\u001b[1;32m   3805\u001b[0m             \u001b[0;32mif\u001b[0m \u001b[0mself\u001b[0m\u001b[0;34m.\u001b[0m\u001b[0mcolumns\u001b[0m\u001b[0;34m.\u001b[0m\u001b[0mnlevels\u001b[0m \u001b[0;34m>\u001b[0m \u001b[0;36m1\u001b[0m\u001b[0;34m:\u001b[0m\u001b[0;34m\u001b[0m\u001b[0;34m\u001b[0m\u001b[0m\n\u001b[1;32m   3806\u001b[0m                 \u001b[0;32mreturn\u001b[0m \u001b[0mself\u001b[0m\u001b[0;34m.\u001b[0m\u001b[0m_getitem_multilevel\u001b[0m\u001b[0;34m(\u001b[0m\u001b[0mkey\u001b[0m\u001b[0;34m)\u001b[0m\u001b[0;34m\u001b[0m\u001b[0;34m\u001b[0m\u001b[0m\n\u001b[0;32m-> 3807\u001b[0;31m             \u001b[0mindexer\u001b[0m \u001b[0;34m=\u001b[0m \u001b[0mself\u001b[0m\u001b[0;34m.\u001b[0m\u001b[0mcolumns\u001b[0m\u001b[0;34m.\u001b[0m\u001b[0mget_loc\u001b[0m\u001b[0;34m(\u001b[0m\u001b[0mkey\u001b[0m\u001b[0;34m)\u001b[0m\u001b[0;34m\u001b[0m\u001b[0;34m\u001b[0m\u001b[0m\n\u001b[0m\u001b[1;32m   3808\u001b[0m             \u001b[0;32mif\u001b[0m \u001b[0mis_integer\u001b[0m\u001b[0;34m(\u001b[0m\u001b[0mindexer\u001b[0m\u001b[0;34m)\u001b[0m\u001b[0;34m:\u001b[0m\u001b[0;34m\u001b[0m\u001b[0;34m\u001b[0m\u001b[0m\n\u001b[1;32m   3809\u001b[0m                 \u001b[0mindexer\u001b[0m \u001b[0;34m=\u001b[0m \u001b[0;34m[\u001b[0m\u001b[0mindexer\u001b[0m\u001b[0;34m]\u001b[0m\u001b[0;34m\u001b[0m\u001b[0;34m\u001b[0m\u001b[0m\n",
            "\u001b[0;32m/usr/local/lib/python3.10/dist-packages/pandas/core/indexes/base.py\u001b[0m in \u001b[0;36mget_loc\u001b[0;34m(self, key, method, tolerance)\u001b[0m\n\u001b[1;32m   3802\u001b[0m                 \u001b[0;32mreturn\u001b[0m \u001b[0mself\u001b[0m\u001b[0;34m.\u001b[0m\u001b[0m_engine\u001b[0m\u001b[0;34m.\u001b[0m\u001b[0mget_loc\u001b[0m\u001b[0;34m(\u001b[0m\u001b[0mcasted_key\u001b[0m\u001b[0;34m)\u001b[0m\u001b[0;34m\u001b[0m\u001b[0;34m\u001b[0m\u001b[0m\n\u001b[1;32m   3803\u001b[0m             \u001b[0;32mexcept\u001b[0m \u001b[0mKeyError\u001b[0m \u001b[0;32mas\u001b[0m \u001b[0merr\u001b[0m\u001b[0;34m:\u001b[0m\u001b[0;34m\u001b[0m\u001b[0;34m\u001b[0m\u001b[0m\n\u001b[0;32m-> 3804\u001b[0;31m                 \u001b[0;32mraise\u001b[0m \u001b[0mKeyError\u001b[0m\u001b[0;34m(\u001b[0m\u001b[0mkey\u001b[0m\u001b[0;34m)\u001b[0m \u001b[0;32mfrom\u001b[0m \u001b[0merr\u001b[0m\u001b[0;34m\u001b[0m\u001b[0;34m\u001b[0m\u001b[0m\n\u001b[0m\u001b[1;32m   3805\u001b[0m             \u001b[0;32mexcept\u001b[0m \u001b[0mTypeError\u001b[0m\u001b[0;34m:\u001b[0m\u001b[0;34m\u001b[0m\u001b[0;34m\u001b[0m\u001b[0m\n\u001b[1;32m   3806\u001b[0m                 \u001b[0;31m# If we have a listlike key, _check_indexing_error will raise\u001b[0m\u001b[0;34m\u001b[0m\u001b[0;34m\u001b[0m\u001b[0m\n",
            "\u001b[0;31mKeyError\u001b[0m: 'calorie'"
          ]
        }
      ],
      "source": [
        "# put your answer here\n",
        "df[\"calorie\"]"
      ]
    },
    {
      "cell_type": "markdown",
      "metadata": {
        "id": "cYpiuog6F8xu"
      },
      "source": [
        "11. Use the `astype()` function to convert all columns of the new dataframe to `int`. `(6 points)`"
      ]
    },
    {
      "cell_type": "code",
      "execution_count": null,
      "metadata": {
        "id": "xUST6Zp1F8xu"
      },
      "outputs": [],
      "source": [
        "# put your answer here"
      ]
    },
    {
      "cell_type": "markdown",
      "metadata": {
        "id": "OjswZ10bF8xu"
      },
      "source": [
        "12. Check the datatype of each column of the new dataframe using the `d_types` property. `(6 points)`"
      ]
    },
    {
      "cell_type": "code",
      "execution_count": null,
      "metadata": {
        "id": "yGul3cfIF8xv"
      },
      "outputs": [],
      "source": [
        "# put your answer here"
      ]
    },
    {
      "cell_type": "markdown",
      "metadata": {
        "id": "13bBW40QF8xv"
      },
      "source": [
        "13. Create a new instance of the `MinMaxScaler()` class. `(6 points)`"
      ]
    },
    {
      "cell_type": "code",
      "execution_count": null,
      "metadata": {
        "id": "kXg0JTOeF8xv"
      },
      "outputs": [],
      "source": [
        "# put your answer here"
      ]
    },
    {
      "cell_type": "markdown",
      "metadata": {
        "id": "Sgg_O3O-F8xv"
      },
      "source": [
        "14. Use the `fit_transform()` function to normalize all calorie features between 0 and 1. `(6 points)`"
      ]
    },
    {
      "cell_type": "code",
      "execution_count": null,
      "metadata": {
        "id": "wIypE0OjF8xv"
      },
      "outputs": [],
      "source": [
        "# put your answer here"
      ]
    },
    {
      "cell_type": "markdown",
      "metadata": {
        "id": "E6_ZeIjRF8xv"
      },
      "source": [
        "## Discretization"
      ]
    },
    {
      "cell_type": "code",
      "execution_count": null,
      "metadata": {
        "id": "sfwl39OyF8xv"
      },
      "outputs": [],
      "source": [
        "# Code to replace empty values with zeroes\n",
        "df['weight'] = df['weight'].replace(\"\", value=\"0\")\n",
        "\n",
        "# Code to convert the weight column to int\n",
        "df['weight'] = df['weight'].astype(int)"
      ]
    },
    {
      "cell_type": "markdown",
      "metadata": {
        "id": "NlihnS0uF8xv"
      },
      "source": [
        "15. Use the matplotlib `hist()` function to create a histogram of the distribution of values of the weight column in the dataset. `(6 points)`"
      ]
    },
    {
      "cell_type": "code",
      "execution_count": null,
      "metadata": {
        "id": "uXk3nF08F8xv"
      },
      "outputs": [],
      "source": [
        "# put your answer here"
      ]
    },
    {
      "cell_type": "markdown",
      "metadata": {
        "id": "zDrO_-dTF8xv"
      },
      "source": [
        "16. Pass three (3) bins to the matplotlib `hist()` function to create a histogram of the distribution of values of the weight column. `(6 points)`"
      ]
    },
    {
      "cell_type": "code",
      "execution_count": null,
      "metadata": {
        "id": "bHIvenbuF8xw"
      },
      "outputs": [],
      "source": [
        "# put your answer here\n"
      ]
    },
    {
      "cell_type": "markdown",
      "metadata": {
        "id": "NMM1ZpNxF8xw"
      },
      "source": [
        "17. Use the seaborn `histplot()` function to create a histogram:. `(6 points)`\n",
        "\n",
        "    - Create three bins **0 to 100**, 1**00 to 200**, **200 to 300**\n",
        "    - Name the first bin from **0 to 100** as **Underweight**\n",
        "    - Name the second bin from **0 to 100** as **Normal**\n",
        "    - Name the third bin from **0 to 100** as **Overweight**\n",
        "\n",
        "    - Set the `set_xticks()` to **0,150,250**\n",
        "    - Set the `set_xticklabels()` to **\"Underweight\", \"Normal\", \"Overweight\"**\n"
      ]
    },
    {
      "cell_type": "code",
      "execution_count": null,
      "metadata": {
        "id": "eKNf7vDsF8xw"
      },
      "outputs": [],
      "source": [
        "# put your answer here"
      ]
    }
  ],
  "metadata": {
    "kernelspec": {
      "display_name": "Python 3",
      "language": "python",
      "name": "python3"
    },
    "language_info": {
      "codemirror_mode": {
        "name": "ipython",
        "version": 3
      },
      "file_extension": ".py",
      "mimetype": "text/x-python",
      "name": "python",
      "nbconvert_exporter": "python",
      "pygments_lexer": "ipython3",
      "version": "3.11.4"
    },
    "orig_nbformat": 4,
    "colab": {
      "provenance": [],
      "include_colab_link": true
    }
  },
  "nbformat": 4,
  "nbformat_minor": 0
}